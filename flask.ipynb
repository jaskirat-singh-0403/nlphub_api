{
 "cells": [
  {
   "cell_type": "code",
   "execution_count": 1,
   "metadata": {},
   "outputs": [],
   "source": [
    "import urllib.request\n",
    "from PyPDF2 import PdfFileWriter, PdfFileReader\n",
    "from io import BytesIO"
   ]
  },
  {
   "cell_type": "code",
   "execution_count": null,
   "metadata": {},
   "outputs": [
    {
     "name": "stdout",
     "output_type": "stream",
     "text": [
      " * Serving Flask app \"__main__\" (lazy loading)\n",
      " * Environment: production\n",
      "\u001b[31m   WARNING: This is a development server. Do not use it in a production deployment.\u001b[0m\n",
      "\u001b[2m   Use a production WSGI server instead.\u001b[0m\n",
      " * Debug mode: off\n"
     ]
    },
    {
     "name": "stderr",
     "output_type": "stream",
     "text": [
      " * Running on http://127.0.0.1:5079/ (Press CTRL+C to quit)\n",
      "[2022-11-02 18:18:00,195] ERROR in app: Exception on / [GET]\n",
      "Traceback (most recent call last):\n",
      "  File \"C:\\Users\\jasy9\\anaconda3\\lib\\site-packages\\flask\\app.py\", line 2447, in wsgi_app\n",
      "    response = self.full_dispatch_request()\n",
      "  File \"C:\\Users\\jasy9\\anaconda3\\lib\\site-packages\\flask\\app.py\", line 1952, in full_dispatch_request\n",
      "    rv = self.handle_user_exception(e)\n",
      "  File \"C:\\Users\\jasy9\\anaconda3\\lib\\site-packages\\flask\\app.py\", line 1821, in handle_user_exception\n",
      "    reraise(exc_type, exc_value, tb)\n",
      "  File \"C:\\Users\\jasy9\\anaconda3\\lib\\site-packages\\flask\\_compat.py\", line 39, in reraise\n",
      "    raise value\n",
      "  File \"C:\\Users\\jasy9\\anaconda3\\lib\\site-packages\\flask\\app.py\", line 1950, in full_dispatch_request\n",
      "    rv = self.dispatch_request()\n",
      "  File \"C:\\Users\\jasy9\\anaconda3\\lib\\site-packages\\flask\\app.py\", line 1936, in dispatch_request\n",
      "    return self.view_functions[rule.endpoint](**req.view_args)\n",
      "  File \"C:\\Users\\jasy9\\AppData\\Local\\Temp/ipykernel_26228/3175070527.py\", line 23, in my_form_post\n",
      "    remoteFile = urllib.request.urlopen(\"http://localhost:5000\"+data).read()\n",
      "  File \"C:\\Users\\jasy9\\anaconda3\\lib\\urllib\\request.py\", line 214, in urlopen\n",
      "    return opener.open(url, data, timeout)\n",
      "  File \"C:\\Users\\jasy9\\anaconda3\\lib\\urllib\\request.py\", line 517, in open\n",
      "    response = self._open(req, data)\n",
      "  File \"C:\\Users\\jasy9\\anaconda3\\lib\\urllib\\request.py\", line 534, in _open\n",
      "    result = self._call_chain(self.handle_open, protocol, protocol +\n",
      "  File \"C:\\Users\\jasy9\\anaconda3\\lib\\urllib\\request.py\", line 494, in _call_chain\n",
      "    result = func(*args)\n",
      "  File \"C:\\Users\\jasy9\\anaconda3\\lib\\urllib\\request.py\", line 1375, in http_open\n",
      "    return self.do_open(http.client.HTTPConnection, req)\n",
      "  File \"C:\\Users\\jasy9\\anaconda3\\lib\\urllib\\request.py\", line 1346, in do_open\n",
      "    h.request(req.get_method(), req.selector, req.data, headers,\n",
      "  File \"C:\\Users\\jasy9\\anaconda3\\lib\\http\\client.py\", line 1279, in request\n",
      "    self._send_request(method, url, body, headers, encode_chunked)\n",
      "  File \"C:\\Users\\jasy9\\anaconda3\\lib\\http\\client.py\", line 1290, in _send_request\n",
      "    self.putrequest(method, url, **skips)\n",
      "  File \"C:\\Users\\jasy9\\anaconda3\\lib\\http\\client.py\", line 1124, in putrequest\n",
      "    self._validate_path(url)\n",
      "  File \"C:\\Users\\jasy9\\anaconda3\\lib\\http\\client.py\", line 1224, in _validate_path\n",
      "    raise InvalidURL(f\"URL can't contain control characters. {url!r} \"\n",
      "http.client.InvalidURL: URL can't contain control characters. '/trainLetter/101917044/Assignment_1_ 328_F22.pdf' (found at least ' ')\n",
      "127.0.0.1 - - [02/Nov/2022 18:18:00] \"GET /?text=/trainLetter/101917044/Assignment_1_%20328_F22.pdf HTTP/1.1\" 500 -\n",
      "127.0.0.1 - - [02/Nov/2022 18:18:00] \"GET /favicon.ico HTTP/1.1\" 404 -\n",
      "127.0.0.1 - - [02/Nov/2022 18:18:33] \"GET /?text=/Fee/101917044/Unitary_Decomposition_in_OpenQL_Anneriet_Krol_MSc_Thesis_CE_2019.pdf HTTP/1.1\" 200 -\n"
     ]
    },
    {
     "name": "stdout",
     "output_type": "stream",
     "text": [
      "260130\n",
      "1661\n"
     ]
    },
    {
     "name": "stderr",
     "output_type": "stream",
     "text": [
      "127.0.0.1 - - [02/Nov/2022 18:18:33] \"GET /static/fonts/font-awesome-4.7.0/css/font-awesome.min.css HTTP/1.1\" 404 -\n",
      "127.0.0.1 - - [02/Nov/2022 18:18:33] \"GET /static/vendor/bootstrap/css/bootstrap.min.css HTTP/1.1\" 404 -\n",
      "127.0.0.1 - - [02/Nov/2022 18:18:33] \"GET /static/vendor/animate/animate.css HTTP/1.1\" 404 -\n",
      "127.0.0.1 - - [02/Nov/2022 18:18:33] \"GET /static/fonts/Linearicons-Free-v1.0.0/icon-font.min.css HTTP/1.1\" 404 -\n",
      "127.0.0.1 - - [02/Nov/2022 18:18:33] \"GET /static/vendor/css-hamburgers/hamburgers.min.css HTTP/1.1\" 404 -\n",
      "127.0.0.1 - - [02/Nov/2022 18:18:33] \"GET /static/vendor/select2/select2.min.css HTTP/1.1\" 404 -\n",
      "127.0.0.1 - - [02/Nov/2022 18:18:33] \"GET /static/css/main.css HTTP/1.1\" 404 -\n",
      "127.0.0.1 - - [02/Nov/2022 18:18:33] \"GET /static/css/util.css HTTP/1.1\" 404 -\n",
      "127.0.0.1 - - [02/Nov/2022 18:18:33] \"GET /static/vendor/jquery/jquery-3.2.1.min.js HTTP/1.1\" 404 -\n",
      "127.0.0.1 - - [02/Nov/2022 18:18:33] \"GET /static/vendor/bootstrap/js/popper.js HTTP/1.1\" 404 -\n",
      "127.0.0.1 - - [02/Nov/2022 18:18:33] \"GET /static/vendor/bootstrap/js/bootstrap.min.js HTTP/1.1\" 404 -\n",
      "127.0.0.1 - - [02/Nov/2022 18:18:33] \"GET /static/vendor/select2/select2.min.js HTTP/1.1\" 404 -\n",
      "127.0.0.1 - - [02/Nov/2022 18:18:34] \"GET /static/js/main.js HTTP/1.1\" 404 -\n",
      "127.0.0.1 - - [02/Nov/2022 18:18:34] \"GET /static/images/bg-01.jpg HTTP/1.1\" 404 -\n",
      "127.0.0.1 - - [02/Nov/2022 18:18:36] \"GET /static/images/icons/favicon.ico HTTP/1.1\" 404 -\n",
      "127.0.0.1 - - [02/Nov/2022 18:18:46] \"GET /?text=/Goal_Report/101917044/Winners.pdf HTTP/1.1\" 200 -\n",
      "127.0.0.1 - - [02/Nov/2022 18:18:46] \"GET /static/vendor/bootstrap/css/bootstrap.min.css HTTP/1.1\" 404 -\n",
      "127.0.0.1 - - [02/Nov/2022 18:18:46] \"GET /static/fonts/font-awesome-4.7.0/css/font-awesome.min.css HTTP/1.1\" 404 -\n"
     ]
    },
    {
     "name": "stdout",
     "output_type": "stream",
     "text": [
      "2044\n",
      "622\n"
     ]
    },
    {
     "name": "stderr",
     "output_type": "stream",
     "text": [
      "127.0.0.1 - - [02/Nov/2022 18:18:46] \"GET /static/fonts/Linearicons-Free-v1.0.0/icon-font.min.css HTTP/1.1\" 404 -\n",
      "127.0.0.1 - - [02/Nov/2022 18:18:46] \"GET /static/vendor/animate/animate.css HTTP/1.1\" 404 -\n",
      "127.0.0.1 - - [02/Nov/2022 18:18:46] \"GET /static/vendor/css-hamburgers/hamburgers.min.css HTTP/1.1\" 404 -\n",
      "127.0.0.1 - - [02/Nov/2022 18:18:46] \"GET /static/vendor/select2/select2.min.css HTTP/1.1\" 404 -\n",
      "127.0.0.1 - - [02/Nov/2022 18:18:46] \"GET /static/css/util.css HTTP/1.1\" 404 -\n",
      "127.0.0.1 - - [02/Nov/2022 18:18:46] \"GET /static/css/main.css HTTP/1.1\" 404 -\n",
      "127.0.0.1 - - [02/Nov/2022 18:18:46] \"GET /static/vendor/jquery/jquery-3.2.1.min.js HTTP/1.1\" 404 -\n",
      "127.0.0.1 - - [02/Nov/2022 18:18:46] \"GET /static/vendor/bootstrap/js/popper.js HTTP/1.1\" 404 -\n",
      "127.0.0.1 - - [02/Nov/2022 18:18:46] \"GET /static/vendor/bootstrap/js/bootstrap.min.js HTTP/1.1\" 404 -\n",
      "127.0.0.1 - - [02/Nov/2022 18:18:46] \"GET /static/vendor/select2/select2.min.js HTTP/1.1\" 404 -\n",
      "127.0.0.1 - - [02/Nov/2022 18:18:46] \"GET /static/js/main.js HTTP/1.1\" 404 -\n",
      "127.0.0.1 - - [02/Nov/2022 18:18:46] \"GET /static/images/bg-01.jpg HTTP/1.1\" 404 -\n",
      "Xref table not zero-indexed. ID numbers for objects will be corrected.\n",
      "127.0.0.1 - - [02/Nov/2022 18:19:07] \"GET /?text=/Mid_Way_Report/101917044/UCS701.pdf HTTP/1.1\" 200 -\n",
      "127.0.0.1 - - [02/Nov/2022 18:19:07] \"GET /static/vendor/bootstrap/css/bootstrap.min.css HTTP/1.1\" 404 -\n",
      "127.0.0.1 - - [02/Nov/2022 18:19:07] \"GET /static/vendor/css-hamburgers/hamburgers.min.css HTTP/1.1\" 404 -\n"
     ]
    },
    {
     "name": "stdout",
     "output_type": "stream",
     "text": [
      "3114\n",
      "587\n"
     ]
    },
    {
     "name": "stderr",
     "output_type": "stream",
     "text": [
      "127.0.0.1 - - [02/Nov/2022 18:19:07] \"GET /static/fonts/font-awesome-4.7.0/css/font-awesome.min.css HTTP/1.1\" 404 -\n",
      "127.0.0.1 - - [02/Nov/2022 18:19:07] \"GET /static/css/util.css HTTP/1.1\" 404 -\n",
      "127.0.0.1 - - [02/Nov/2022 18:19:07] \"GET /static/css/main.css HTTP/1.1\" 404 -\n",
      "127.0.0.1 - - [02/Nov/2022 18:19:07] \"GET /static/vendor/animate/animate.css HTTP/1.1\" 404 -\n",
      "127.0.0.1 - - [02/Nov/2022 18:19:07] \"GET /static/vendor/select2/select2.min.css HTTP/1.1\" 404 -\n",
      "127.0.0.1 - - [02/Nov/2022 18:19:07] \"GET /static/fonts/Linearicons-Free-v1.0.0/icon-font.min.css HTTP/1.1\" 404 -\n",
      "127.0.0.1 - - [02/Nov/2022 18:19:07] \"GET /static/vendor/select2/select2.min.js HTTP/1.1\" 404 -\n",
      "127.0.0.1 - - [02/Nov/2022 18:19:07] \"GET /static/vendor/bootstrap/js/bootstrap.min.js HTTP/1.1\" 404 -\n",
      "127.0.0.1 - - [02/Nov/2022 18:19:07] \"GET /static/images/bg-01.jpg HTTP/1.1\" 404 -\n",
      "127.0.0.1 - - [02/Nov/2022 18:19:07] \"GET /static/vendor/bootstrap/js/popper.js HTTP/1.1\" 404 -\n",
      "127.0.0.1 - - [02/Nov/2022 18:19:07] \"GET /static/js/main.js HTTP/1.1\" 404 -\n",
      "127.0.0.1 - - [02/Nov/2022 18:19:07] \"GET /static/vendor/jquery/jquery-3.2.1.min.js HTTP/1.1\" 404 -\n",
      "127.0.0.1 - - [02/Nov/2022 19:02:01] \"GET /?text=/trainLetter/101917044/test.pdf HTTP/1.1\" 200 -\n",
      "127.0.0.1 - - [02/Nov/2022 19:02:01] \"GET /static/vendor/bootstrap/css/bootstrap.min.css HTTP/1.1\" 404 -\n",
      "127.0.0.1 - - [02/Nov/2022 19:02:01] \"GET /static/fonts/font-awesome-4.7.0/css/font-awesome.min.css HTTP/1.1\" 404 -\n"
     ]
    },
    {
     "name": "stdout",
     "output_type": "stream",
     "text": [
      "12456\n",
      "1097\n"
     ]
    },
    {
     "name": "stderr",
     "output_type": "stream",
     "text": [
      "127.0.0.1 - - [02/Nov/2022 19:02:01] \"GET /static/fonts/Linearicons-Free-v1.0.0/icon-font.min.css HTTP/1.1\" 404 -\n",
      "127.0.0.1 - - [02/Nov/2022 19:02:01] \"GET /static/css/util.css HTTP/1.1\" 404 -\n",
      "127.0.0.1 - - [02/Nov/2022 19:02:01] \"GET /static/vendor/animate/animate.css HTTP/1.1\" 404 -\n",
      "127.0.0.1 - - [02/Nov/2022 19:02:01] \"GET /static/vendor/css-hamburgers/hamburgers.min.css HTTP/1.1\" 404 -\n",
      "127.0.0.1 - - [02/Nov/2022 19:02:01] \"GET /static/css/main.css HTTP/1.1\" 404 -\n",
      "127.0.0.1 - - [02/Nov/2022 19:02:01] \"GET /static/vendor/select2/select2.min.css HTTP/1.1\" 404 -\n",
      "127.0.0.1 - - [02/Nov/2022 19:02:02] \"GET /static/vendor/bootstrap/js/popper.js HTTP/1.1\" 404 -\n",
      "127.0.0.1 - - [02/Nov/2022 19:02:02] \"GET /static/vendor/bootstrap/js/bootstrap.min.js HTTP/1.1\" 404 -\n",
      "127.0.0.1 - - [02/Nov/2022 19:02:02] \"GET /static/js/main.js HTTP/1.1\" 404 -\n",
      "127.0.0.1 - - [02/Nov/2022 19:02:02] \"GET /static/vendor/jquery/jquery-3.2.1.min.js HTTP/1.1\" 404 -\n",
      "127.0.0.1 - - [02/Nov/2022 19:02:02] \"GET /static/vendor/select2/select2.min.js HTTP/1.1\" 404 -\n",
      "127.0.0.1 - - [02/Nov/2022 19:02:02] \"GET /static/images/bg-01.jpg HTTP/1.1\" 404 -\n"
     ]
    }
   ],
   "source": [
    "from flask import Flask\n",
    "from flask import request\n",
    "from flask import render_template\n",
    "import numpy as np\n",
    "from matplotlib import pyplot as plt\n",
    "import os\n",
    "import spacy\n",
    "from spacy.lang.en.stop_words import STOP_WORDS\n",
    "from string import punctuation\n",
    "\n",
    "app = Flask(__name__)\n",
    "\n",
    "\n",
    "@app.route('/', methods=['GET','POST'])\n",
    "def my_form_post():\n",
    "    data = request.args\n",
    "    data =data.get(\"text\")\n",
    "    \n",
    "    if len(data)==0:\n",
    "        return\n",
    "    url = \"https://www.africau.edu/images/default/sample.pdf\"\n",
    "    writer = PdfFileWriter()\n",
    "    remoteFile = urllib.request.urlopen(\"http://localhost:5000\"+data).read()\n",
    "    memoryFile = BytesIO(remoteFile)\n",
    "    pdfFile = PdfFileReader(memoryFile)\n",
    "    data=\"\"\n",
    "    for pageNum in range(pdfFile.getNumPages()):\n",
    "        currentPage = pdfFile.getPage(pageNum)\n",
    "        #currentPage.mergePage(watermark.getPage(0))\n",
    "        data+=currentPage.extractText()\n",
    "    stopwords = list(STOP_WORDS)\n",
    "    \n",
    "    doc1=data\n",
    "    nlp =spacy.load('en_core_web_sm')\n",
    "    \n",
    "    docx = nlp(doc1)\n",
    "    \n",
    "    mytokens = [token.text for token in docx]\n",
    "    \n",
    "    word_freq={}\n",
    "    for word in docx:\n",
    "        if word.text not in stopwords:\n",
    "            if word.text not in word_freq.keys():\n",
    "                word_freq[word.text]=1;\n",
    "                \n",
    "            else:\n",
    "                word_freq[word.text]+=1;\n",
    "                \n",
    "    max_freq=max(word_freq.values())\n",
    "\n",
    "    for word in word_freq:\n",
    "        word_freq[word]=(word_freq[word]/max_freq)     \n",
    "        \n",
    "    sentence_list = [ sentence for sentence in docx.sents]\n",
    "    \n",
    "    [w.text.lower() for t in sentence_list for w in t ]\n",
    "    \n",
    "    \n",
    "    sentence_scores={}\n",
    "    for sentence in sentence_list:\n",
    "        for word in sentence:\n",
    "            if word.text in word_freq.keys():\n",
    "                if len(sentence.text.split(' ')) < 30:\n",
    "                    if sentence not in sentence_scores.keys():\n",
    "                        sentence_scores[sentence] = word_freq[word.text]\n",
    "                    else:\n",
    "                        sentence_scores[sentence] += word_freq[word.text]\n",
    "                        \n",
    "                        \n",
    "    from heapq import nlargest\n",
    "    \n",
    "    sum_sentences = nlargest(8, sentence_scores, key=sentence_scores.get)\n",
    "    \n",
    "    final_sentences = [ w.text for w in sum_sentences ] \n",
    "    \n",
    "    \n",
    "    summary = ' '.join(final_sentences)\n",
    "    \n",
    "    print(len(doc1))\n",
    "    print(len(summary))\n",
    "    return render_template('output.html', message = summary)\n",
    "\n",
    "if __name__ == '__main__':\n",
    "    app.run(port=\"5079\")"
   ]
  },
  {
   "cell_type": "code",
   "execution_count": null,
   "metadata": {},
   "outputs": [],
   "source": [
    "pip install https://github.com/explosion/spacy-models/releases/download/en_core_web_sm-2.2.0/en_core_web_sm-2.2.0.tar.gz#egg=en_core_web_sm\n",
    "\n"
   ]
  },
  {
   "cell_type": "code",
   "execution_count": null,
   "metadata": {},
   "outputs": [],
   "source": [
    "! python -m spacy download en_core_web_sm"
   ]
  },
  {
   "cell_type": "code",
   "execution_count": null,
   "metadata": {},
   "outputs": [],
   "source": [
    "import spacy"
   ]
  },
  {
   "cell_type": "code",
   "execution_count": null,
   "metadata": {},
   "outputs": [],
   "source": []
  }
 ],
 "metadata": {
  "kernelspec": {
   "display_name": "Python 3 (ipykernel)",
   "language": "python",
   "name": "python3"
  },
  "language_info": {
   "codemirror_mode": {
    "name": "ipython",
    "version": 3
   },
   "file_extension": ".py",
   "mimetype": "text/x-python",
   "name": "python",
   "nbconvert_exporter": "python",
   "pygments_lexer": "ipython3",
   "version": "3.9.7"
  }
 },
 "nbformat": 4,
 "nbformat_minor": 2
}
